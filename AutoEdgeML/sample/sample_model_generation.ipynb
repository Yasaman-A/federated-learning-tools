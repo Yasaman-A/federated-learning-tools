{
  "nbformat": 4,
  "nbformat_minor": 0,
  "metadata": {
    "accelerator": "GPU",
    "colab": {
      "name": "sample-model-generation.ipynb",
      "provenance": [],
      "collapsed_sections": [
        "K1bPZwQ0ORwB"
      ],
      "toc_visible": true,
      "include_colab_link": true
    },
    "kernelspec": {
      "display_name": "Python 3",
      "name": "python3"
    }
  },
  "cells": [
    {
      "cell_type": "markdown",
      "metadata": {
        "id": "view-in-github",
        "colab_type": "text"
      },
      "source": [
        "<a href=\"https://colab.research.google.com/github/Yasaman-A/federated-learning-tools/blob/main/AutoEdgeML/sample/sample_model_generation.ipynb\" target=\"_parent\"><img src=\"https://colab.research.google.com/assets/colab-badge.svg\" alt=\"Open In Colab\"/></a>"
      ]
    },
    {
      "cell_type": "markdown",
      "metadata": {
        "id": "9h6NtGeW9NwI"
      },
      "source": [
        "# Lib"
      ]
    },
    {
      "cell_type": "code",
      "metadata": {
        "id": "poeIo5NjWQns"
      },
      "source": [
        "!pip install -U tensorboard-plugin-profile\n",
        "!pip install --quiet --upgrade tensorflow_federated\n",
        "!pip install nest_asyncio\n",
        "\n",
        "import nest_asyncio\n",
        "nest_asyncio.apply()"
      ],
      "execution_count": null,
      "outputs": []
    },
    {
      "cell_type": "code",
      "metadata": {
        "id": "8BKyHkMxKHfV"
      },
      "source": [
        "from __future__ import print_function\n",
        "import keras\n",
        "from keras.datasets import mnist\n",
        "from keras.models import Sequential\n",
        "from keras.layers import Dense, Dropout, Flatten\n",
        "from keras.layers import Conv2D, MaxPooling2D\n",
        "from keras import backend as K\n",
        "\n",
        "\n",
        "import tensorflow as tf\n",
        "\n",
        "\n",
        "\n",
        "tf.compat.v1.enable_v2_behavior()"
      ],
      "execution_count": null,
      "outputs": []
    },
    {
      "cell_type": "markdown",
      "metadata": {
        "id": "K1bPZwQ0ORwB"
      },
      "source": [
        "# Sample input model generation"
      ]
    },
    {
      "cell_type": "code",
      "metadata": {
        "id": "TN_sYMK_gIm3"
      },
      "source": [
        "NUM_CLASS = 10\n",
        "# -------- Simulate input model\n",
        "input_shape=(28, 28, 1)\n",
        "\n",
        "def create_keras_model():\n",
        "    return tf.keras.models.Sequential([\n",
        "      tf.keras.layers.Input(shape=input_shape),\n",
        "      tf.keras.layers.Conv2D(32, kernel_size=(3, 3), activation='relu'),\n",
        "      tf.keras.layers.Conv2D(64, kernel_size=(3, 3), activation='relu'),\n",
        "      tf.keras.layers.MaxPooling2D(pool_size=(2, 2)),\n",
        "      tf.keras.layers.Dropout(0.25),\n",
        "      tf.keras.layers.Flatten(),\n",
        "      tf.keras.layers.Dense(128, activation='relu'),\n",
        "      tf.keras.layers.Dropout(0.5),\n",
        "      tf.keras.layers.Dense(NUM_CLASS, activation='softmax'),\n",
        "    ])\n",
        "\n",
        "simulated_model = create_keras_model()\n",
        "\n",
        "simulated_model.save(\"demo_model\")"
      ],
      "execution_count": null,
      "outputs": []
    },
    {
      "cell_type": "code",
      "metadata": {
        "id": "lKvcSiwHc-3W"
      },
      "source": [
        "!tar -czvf demo_model.tar.gz demo_model/"
      ],
      "execution_count": null,
      "outputs": []
    }
  ]
}